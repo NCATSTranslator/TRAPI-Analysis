{
 "cells": [
  {
   "cell_type": "markdown",
   "id": "binary-jersey",
   "metadata": {},
   "source": []
  },
  {
   "cell_type": "markdown",
   "id": "steady-inclusion",
   "metadata": {},
   "source": [
    "The following functions are used send queries to Translator and display the results"
   ]
  },
  {
   "cell_type": "code",
   "execution_count": 122,
   "id": "neural-greece",
   "metadata": {},
   "outputs": [],
   "source": [
    "#imports\n",
    "import json\n",
    "import requests\n",
    "from datetime import datetime as dt\n",
    "import urllib.parse\n",
    "import time\n",
    "import os"
   ]
  },
  {
   "cell_type": "code",
   "execution_count": 123,
   "id": "serious-environment",
   "metadata": {},
   "outputs": [],
   "source": [
    "#ARS functions\n",
    "def submit_to_ars(m,ars_url='https://ars.transltr.io/ars/api',arax_url='https://arax.ncats.io'):\n",
    "    submit_url=f'{ars_url}/submit'\n",
    "    response = requests.post(submit_url,json=m)\n",
    "    try:\n",
    "        message_id = response.json()['pk']\n",
    "    except:\n",
    "        print('fail')\n",
    "        message_id = None\n",
    "    print(f'{arax_url}/?source=ARS&id={message_id}')\n",
    "    return message_id\n",
    "\n",
    "def retrieve_ars_results(mid,ars_url='https://ars.transltr.io/ars/api'):\n",
    "    message_url = f'{ars_url}/messages/{mid}?trace=y'\n",
    "    response = requests.get(message_url)\n",
    "    j = response.json()\n",
    "    print( j['status'] )\n",
    "    results = {}\n",
    "    for child in j['children']:\n",
    "        #print(child['status'])\n",
    "        if child['status']  == 'Done':\n",
    "            childmessage_id = child['message']\n",
    "            child_url = f'{ars_url}/messages/{childmessage_id}'\n",
    "            try:\n",
    "                child_response = requests.get(child_url).json()\n",
    "                nresults = len(child_response['fields']['data']['message']['results'])\n",
    "                if nresults > 0:\n",
    "                    results[child['actor']['agent']] = {'message':child_response['fields']['data']['message']}\n",
    "            except Exception as e:\n",
    "                nresults=0\n",
    "                child['status'] = 'ARS Error'\n",
    "        elif child['status'] == 'Error':\n",
    "            nresults=0\n",
    "            childmessage_id = child['message']\n",
    "            child_url = f'{ars_url}/messages/{childmessage_id}'\n",
    "            try:\n",
    "                child_response = requests.get(child_url).json()\n",
    "                results[child['actor']['agent']] = {'message':child_response['fields']['data']['message']}\n",
    "            except Exception as e:\n",
    "                print(e)\n",
    "                child['status'] = 'ARS Error'\n",
    "        else:\n",
    "            nresults = 0\n",
    "        #print( child['status'], child['actor']['agent'],nresults )\n",
    "    return results"
   ]
  },
  {
   "cell_type": "code",
   "execution_count": 125,
   "id": "meaning-deviation",
   "metadata": {},
   "outputs": [],
   "source": [
    "#utils\n",
    "def printjson(j):\n",
    "    print(json.dumps(j,indent=4))\n",
    "def print_json(j):\n",
    "    printjson(j)"
   ]
  },
  {
   "cell_type": "code",
   "execution_count": 126,
   "id": "4633b6f1",
   "metadata": {},
   "outputs": [],
   "source": [
    "def resolve_name(string):\n",
    "    url_string=urllib.parse.quote(string)\n",
    "    name_resolver_url=\"https://name-resolution-sri.renci.org/lookup?string=\"\n",
    "    message_url = f'{name_resolver_url}{string}&offset=0&limit=10'\n",
    "    response = requests.post(message_url)\n",
    "    return response.json()"
   ]
  },
  {
   "cell_type": "code",
   "execution_count": 127,
   "id": "297f8cc5",
   "metadata": {},
   "outputs": [],
   "source": [
    "def getpath_impl(j, fields, i):\n",
    "    if(j is None or i>=len(fields)):\n",
    "        return j\n",
    "    field = fields[i]\n",
    "    jNext = j[field] if field in j else None\n",
    "    return getpath_impl(jNext, fields, i+1)\n",
    "\n",
    "def getpath(j, fields):\n",
    "    return getpath_impl(j, fields, 0)"
   ]
  },
  {
   "cell_type": "code",
   "execution_count": 128,
   "id": "c5907562",
   "metadata": {},
   "outputs": [],
   "source": [
    "def get_message_from_disk(file=\"araxResultsSpringHackathon.json\"):\n",
    "    with open(file, 'r') as f:\n",
    "      data = json.load(f)\n",
    "    return data"
   ]
  },
  {
   "cell_type": "code",
   "execution_count": 129,
   "id": "7ccf7775",
   "metadata": {},
   "outputs": [],
   "source": [
    "def get_knowledge_graph(message):\n",
    "    return getpath(message,[\"fields\",\"data\",\"message\",\"knowledge_graph\"])"
   ]
  },
  {
   "cell_type": "code",
   "execution_count": 130,
   "id": "43b40ff3",
   "metadata": {},
   "outputs": [],
   "source": [
    "#Returns `nodes` from either a TRAPI knowledge_graph or full response\n",
    "def get_nodes(json):\n",
    "    nodes=None\n",
    "    if \"model\" in json:\n",
    "        #We're looking at a full TRAPI message\n",
    "        nodes = getpath(json,[\"fields\",\"data\",\"message\",\"knowledge_graph\",\"nodes\"])\n",
    "    elif \"nodes\" in json:\n",
    "        #We're looking at just the KG\n",
    "        nodes = getpath(json,[\"nodes\"])\n",
    "    return nodes\n",
    "        "
   ]
  },
  {
   "cell_type": "code",
   "execution_count": 131,
   "id": "1b495876",
   "metadata": {},
   "outputs": [],
   "source": [
    "#Returns `edges` from either a TRAPI knowledge_graph or full response\n",
    "def get_edges(json):\n",
    "    edges=None\n",
    "    if \"model\" in json:\n",
    "        #We're looking at a full TRAPI message\n",
    "        edges = getpath(json,[\"fields\",\"data\",\"message\",\"knowledge_graph\",\"edges\"])\n",
    "    elif \"edges\" in json:\n",
    "        #We're looking at just the KG\n",
    "        edges = getpath(json,[\"edges\"])\n",
    "    return edges"
   ]
  },
  {
   "cell_type": "code",
   "execution_count": 132,
   "id": "fbf8949d",
   "metadata": {},
   "outputs": [],
   "source": [
    "def get_results(json):\n",
    "    return getpath(json,[\"fields\",\"data\",\"message\",\"results\"])"
   ]
  },
  {
   "cell_type": "code",
   "execution_count": 178,
   "id": "39a0298c",
   "metadata": {},
   "outputs": [],
   "source": [
    "def edge_contains_semmed(edge):\n",
    "    sources= [\"attribute_source\"]\n",
    "    attributes = getpath(edge,[\"attributes\"])\n",
    "    semmed=False\n",
    "    if attributes is not None:\n",
    "        for attribute in attributes:\n",
    "            if \"attribute_source\" in attribute:\n",
    "                source = getpath(attribute,['attribute_source'])\n",
    "                if source == \"infores:semmeddb\":\n",
    "                    semmed=True\n",
    "\n",
    "    return semmed\n",
    "        "
   ]
  },
  {
   "cell_type": "code",
   "execution_count": 200,
   "id": "86a2e515",
   "metadata": {},
   "outputs": [],
   "source": [
    "def only_semmed_results(results,edges):\n",
    "    sem_results = []\n",
    "    for result in results:\n",
    "        #print(getpath(result,['essence']))\n",
    "        only_sem=True\n",
    "        bindings = getpath(result,['edge_bindings'])\n",
    "        for key,binding in bindings.items():\n",
    "            for b in binding:\n",
    "                \n",
    "                #print(type(key),type(binding))\n",
    "                eid = getpath(b,['id'])\n",
    "                #print(eid)\n",
    "                edge = get_edge_by_id(edges,eid)\n",
    "                if getpath(edge,['predicate'])==\"biolink:has_normalized_google_distance_with\":\n",
    "                    continue\n",
    "                #print(getpath(edge,['predicate']))\n",
    "                if not edge_contains_semmed(edge):\n",
    "                    #print(getpath(edge,['predicate']))\n",
    "                    only_sem=False\n",
    "        if only_sem:\n",
    "            sem_results.append(result)\n",
    "    return sem_results\n",
    "            "
   ]
  },
  {
   "cell_type": "code",
   "execution_count": 137,
   "id": "cafa344c",
   "metadata": {},
   "outputs": [],
   "source": [
    "def get_edge_by_id(edges,edge_id):\n",
    "    return(getpath(edges,[edge_id]))"
   ]
  },
  {
   "cell_type": "code",
   "execution_count": 139,
   "id": "6b34792e",
   "metadata": {},
   "outputs": [],
   "source": [
    "def get_node_by_id(nodes, node_id):\n",
    "    return(getpath(nodes,[node_id]))"
   ]
  },
  {
   "cell_type": "code",
   "execution_count": 142,
   "id": "e620e62c",
   "metadata": {},
   "outputs": [],
   "source": [
    "def get_node_ids_from_edge(edge):\n",
    "    nodes=[]\n",
    "    nodes.append(getpath(edge,['subject']))\n",
    "    nodes.append(getpath(edge,['object']))\n",
    "    return nodes"
   ]
  },
  {
   "cell_type": "code",
   "execution_count": 148,
   "id": "7c22d980",
   "metadata": {},
   "outputs": [],
   "source": [
    "def get_categories_from_node(node):\n",
    "    return getpath(node,['categories'])"
   ]
  },
  {
   "cell_type": "code",
   "execution_count": 153,
   "id": "f94a7aaa",
   "metadata": {},
   "outputs": [],
   "source": [
    "def get_category_count(edges,nodes):\n",
    "    cat_map={}\n",
    "    for edge in edges:\n",
    "        node_ids = get_node_ids_from_edge(edge)\n",
    "        for nid in node_ids:\n",
    "            categories = get_categories_from_node(get_node_by_id(nodes,nid))\n",
    "            for cat in categories:\n",
    "                if cat in cat_map:\n",
    "                    cat_map[cat]=cat_map[cat]+1\n",
    "                else:\n",
    "                    cat_map[cat]=1\n",
    "    return cat_map"
   ]
  },
  {
   "cell_type": "code",
   "execution_count": 156,
   "id": "da840d4c",
   "metadata": {},
   "outputs": [],
   "source": [
    "def get_predicate_count(edges):\n",
    "    pred_map={}\n",
    "    for edge in edges:\n",
    "        predicate = getpath(edge,['predicate'])\n",
    "        if predicate in pred_map:\n",
    "            pred_map[predicate]=pred_map[predicate]+1\n",
    "        else:\n",
    "            pred_map[predicate]=1\n",
    "    return pred_map"
   ]
  },
  {
   "cell_type": "code",
   "execution_count": 163,
   "id": "1e8b6cd4",
   "metadata": {},
   "outputs": [],
   "source": [
    "def analyze(json):\n",
    "    edges = get_edges(json)\n",
    "    nodes = get_nodes(json)\n",
    "    total_edges = len(edges.keys())\n",
    "    semmedges=[]\n",
    "    for key in edges.keys():\n",
    "        if(edge_contains_semmed(edges[key])):\n",
    "            semmedges.append(edges[key])\n",
    "    semmed_count = len(semmedges)\n",
    "    print(str(semmed_count)+\" of \"+str(total_edges)+\" edges came from semmed\")\n",
    "    cat_map=get_category_count(semmedges,nodes)\n",
    "    pred_map=get_predicate_count(semmedges)\n",
    "    print(cat_map)\n",
    "    print(pred_map)"
   ]
  },
  {
   "cell_type": "code",
   "execution_count": 164,
   "id": "9b033e66",
   "metadata": {},
   "outputs": [],
   "source": [
    "example = get_message_from_disk()\n",
    "kg = get_knowledge_graph(example)"
   ]
  },
  {
   "cell_type": "code",
   "execution_count": 165,
   "id": "4d26acfc",
   "metadata": {},
   "outputs": [],
   "source": [
    "edges = get_edges(example)\n",
    "nodes = get_nodes(example)\n",
    "results = get_results(example)"
   ]
  },
  {
   "cell_type": "code",
   "execution_count": 168,
   "id": "66a40824",
   "metadata": {},
   "outputs": [
    {
     "name": "stdout",
     "output_type": "stream",
     "text": [
      "967 of 1458 edges came from semmed\n",
      "{'biolink:SmallMolecule': 967, 'biolink:PhenotypicFeature': 967}\n",
      "{'biolink:treats': 293, 'biolink:prevents': 212, 'biolink:affects': 217, 'biolink:disrupts': 132, 'biolink:entity_positively_regulates_entity': 78, 'biolink:has_normalized_google_distance_with': 35}\n"
     ]
    }
   ],
   "source": [
    "analyze(example)"
   ]
  },
  {
   "cell_type": "code",
   "execution_count": 206,
   "id": "04c05f20",
   "metadata": {},
   "outputs": [
    {
     "name": "stdout",
     "output_type": "stream",
     "text": [
      "474 of 500 results have only semmeddb as a source\n"
     ]
    }
   ],
   "source": [
    "only_sem = only_semmed_results(results,edges)\n",
    "print(str(len(only_sem))+\" of \"+str(len(results))+\" results have only semmeddb as a source\")\n"
   ]
  },
  {
   "cell_type": "code",
   "execution_count": null,
   "id": "c30ea831",
   "metadata": {},
   "outputs": [],
   "source": []
  }
 ],
 "metadata": {
  "kernelspec": {
   "display_name": "Python 3 (ipykernel)",
   "language": "python",
   "name": "python3"
  },
  "language_info": {
   "codemirror_mode": {
    "name": "ipython",
    "version": 3
   },
   "file_extension": ".py",
   "mimetype": "text/x-python",
   "name": "python",
   "nbconvert_exporter": "python",
   "pygments_lexer": "ipython3",
   "version": "3.9.13"
  }
 },
 "nbformat": 4,
 "nbformat_minor": 5
}
