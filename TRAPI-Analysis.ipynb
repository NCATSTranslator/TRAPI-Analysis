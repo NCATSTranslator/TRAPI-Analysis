{
 "cells": [
  {
   "cell_type": "markdown",
   "id": "binary-jersey",
   "metadata": {},
   "source": []
  },
  {
   "cell_type": "markdown",
   "id": "steady-inclusion",
   "metadata": {},
   "source": [
    "The following functions are used send queries to Translator and display the results"
   ]
  },
  {
   "cell_type": "code",
   "execution_count": 122,
   "id": "neural-greece",
   "metadata": {},
   "outputs": [],
   "source": [
    "#imports\n",
    "import json\n",
    "import requests\n",
    "from datetime import datetime as dt\n",
    "import urllib.parse\n",
    "import time\n",
    "import os"
   ]
  },
  {
   "cell_type": "code",
   "execution_count": 123,
   "id": "serious-environment",
   "metadata": {},
   "outputs": [],
   "source": [
    "#ARS functions\n",
    "def submit_to_ars(m,ars_url='https://ars.transltr.io/ars/api',arax_url='https://arax.ncats.io'):\n",
    "    submit_url=f'{ars_url}/submit'\n",
    "    response = requests.post(submit_url,json=m)\n",
    "    try:\n",
    "        message_id = response.json()['pk']\n",
    "    except:\n",
    "        print('fail')\n",
    "        message_id = None\n",
    "    print(f'{arax_url}/?source=ARS&id={message_id}')\n",
    "    return message_id\n",
    "\n",
    "def retrieve_ars_results(mid,ars_url='https://ars.transltr.io/ars/api'):\n",
    "    message_url = f'{ars_url}/messages/{mid}?trace=y'\n",
    "    response = requests.get(message_url)\n",
    "    j = response.json()\n",
    "    print( j['status'] )\n",
    "    results = {}\n",
    "    for child in j['children']:\n",
    "        #print(child['status'])\n",
    "        if child['status']  == 'Done':\n",
    "            childmessage_id = child['message']\n",
    "            child_url = f'{ars_url}/messages/{childmessage_id}'\n",
    "            try:\n",
    "                child_response = requests.get(child_url).json()\n",
    "                nresults = len(child_response['fields']['data']['message']['results'])\n",
    "                if nresults > 0:\n",
    "                    results[child['actor']['agent']] = {'message':child_response['fields']['data']['message']}\n",
    "            except Exception as e:\n",
    "                nresults=0\n",
    "                child['status'] = 'ARS Error'\n",
    "        elif child['status'] == 'Error':\n",
    "            nresults=0\n",
    "            childmessage_id = child['message']\n",
    "            child_url = f'{ars_url}/messages/{childmessage_id}'\n",
    "            try:\n",
    "                child_response = requests.get(child_url).json()\n",
    "                results[child['actor']['agent']] = {'message':child_response['fields']['data']['message']}\n",
    "            except Exception as e:\n",
    "                print(e)\n",
    "                child['status'] = 'ARS Error'\n",
    "        else:\n",
    "            nresults = 0\n",
    "        #print( child['status'], child['actor']['agent'],nresults )\n",
    "    return results"
   ]
  },
  {
   "cell_type": "code",
   "execution_count": 124,
   "id": "eddf3840",
   "metadata": {},
   "outputs": [],
   "source": [
    "# helper functions\n",
    "def translate_node_name(list_input, ontology_prefix, sort_by_ontology=False, log=False):\n",
    "    '''\n",
    "    translate array of values using the translator name resolver\n",
    "    will return multiple rows if multiple results returned for one name\n",
    "    ex: \n",
    "        list_test_result = translate(list_test, 'NCBIGene', sort_by_ontology=True)\n",
    "    get:\n",
    "        [('MT-ND2', 'NCBIGene:56168'), ('MT-ND2', 'NCBIGene:387315')]\n",
    "    '''\n",
    "    # initialize\n",
    "    list_result = []\n",
    "\n",
    "    # query for the list of names\n",
    "    for name in list_input:\n",
    "        #url_call = urllib.parse.quote(name)\n",
    "        try:\n",
    "            #response = requests.post(url_call)\n",
    "            output_json = resolve_name(name)\n",
    "            #output_json = response.json()\n",
    "        except ValueError:\n",
    "            print(\"got json error for {}, so skip\".format(name))\n",
    "            continue\n",
    "\n",
    "        # parse\n",
    "        for key, value in output_json.items():\n",
    "            if ontology_prefix in key:\n",
    "                list_result.append((name, key))\n",
    "                #Cutting things off at one\n",
    "                break\n",
    "\n",
    "    if sort_by_ontology:\n",
    "        list_result.sort(key = lambda x: int(x[1].split(\":\")[1]))\n",
    "\n",
    "    # return\n",
    "    return list_result"
   ]
  },
  {
   "cell_type": "code",
   "execution_count": 125,
   "id": "meaning-deviation",
   "metadata": {},
   "outputs": [],
   "source": [
    "#utils\n",
    "def printjson(j):\n",
    "    print(json.dumps(j,indent=4))\n",
    "def print_json(j):\n",
    "    printjson(j)"
   ]
  },
  {
   "cell_type": "code",
   "execution_count": 126,
   "id": "4633b6f1",
   "metadata": {},
   "outputs": [],
   "source": [
    "def resolve_name(string):\n",
    "    url_string=urllib.parse.quote(string)\n",
    "    name_resolver_url=\"https://name-resolution-sri.renci.org/lookup?string=\"\n",
    "    message_url = f'{name_resolver_url}{string}&offset=0&limit=10'\n",
    "    response = requests.post(message_url)\n",
    "    return response.json()"
   ]
  },
  {
   "cell_type": "code",
   "execution_count": 127,
   "id": "297f8cc5",
   "metadata": {},
   "outputs": [],
   "source": [
    "def getpath_impl(j, fields, i):\n",
    "    if(j is None or i>=len(fields)):\n",
    "        return j\n",
    "    field = fields[i]\n",
    "    jNext = j[field] if field in j else None\n",
    "    return getpath_impl(jNext, fields, i+1)\n",
    "\n",
    "def getpath(j, fields):\n",
    "    return getpath_impl(j, fields, 0)"
   ]
  },
  {
   "cell_type": "code",
   "execution_count": 128,
   "id": "19f79600",
   "metadata": {},
   "outputs": [],
   "source": [
    "def get_message_from_disk(file=\"araxResultsSpringHackathon.json\"):\n",
    "    with open(file, 'r') as f:\n",
    "      data = json.load(f)\n",
    "    return data"
   ]
  },
  {
   "cell_type": "code",
   "execution_count": 129,
   "id": "7ccf7775",
   "metadata": {},
   "outputs": [],
   "source": [
    "def get_knowledge_graph(message):\n",
    "    return getpath(message,[\"fields\",\"data\",\"message\",\"knowledge_graph\"])"
   ]
  },
  {
   "cell_type": "code",
   "execution_count": 130,
   "id": "9202932f",
   "metadata": {},
   "outputs": [],
   "source": [
    "#Returns `nodes` from either a TRAPI knowledge_graph or full response\n",
    "def get_nodes(json):\n",
    "    nodes=None\n",
    "    if \"model\" in json:\n",
    "        #We're looking at a full TRAPI message\n",
    "        nodes = getpath(json,[\"fields\",\"data\",\"message\",\"knowledge_graph\",\"nodes\"])\n",
    "    elif \"nodes\" in json:\n",
    "        #We're looking at just the KG\n",
    "        nodes = getpath(json,[\"nodes\"])\n",
    "    return nodes\n",
    "        "
   ]
  },
  {
   "cell_type": "code",
   "execution_count": 131,
   "id": "dbd6698b",
   "metadata": {},
   "outputs": [],
   "source": [
    "#Returns `edges` from either a TRAPI knowledge_graph or full response\n",
    "def get_edges(json):\n",
    "    edges=None\n",
    "    if \"model\" in json:\n",
    "        #We're looking at a full TRAPI message\n",
    "        edges = getpath(json,[\"fields\",\"data\",\"message\",\"knowledge_graph\",\"edges\"])\n",
    "    elif \"edges\" in json:\n",
    "        #We're looking at just the KG\n",
    "        edges = getpath(json,[\"edges\"])\n",
    "    return edges"
   ]
  },
  {
   "cell_type": "code",
   "execution_count": 132,
   "id": "6ebfbbc7",
   "metadata": {},
   "outputs": [],
   "source": [
    "def get_results(json):\n",
    "    return getpath(json,[\"fields\",\"data\",\"message\",\"results\"])"
   ]
  },
  {
   "cell_type": "code",
   "execution_count": 133,
   "id": "05f3f35f",
   "metadata": {},
   "outputs": [],
   "source": [
    "def edge_contains_semmed(edge):\n",
    "    sources= [\"biolink:aggregator_knowledge_source\",\"biolink:knowledge_source\"]\n",
    "    attributes = getpath(edge,[\"attributes\"])\n",
    "    semmed=False\n",
    "    #print_json(edge)\n",
    "    for attribute in attributes:\n",
    "        attribute_id = getpath(attribute,[\"attribute_type_id\"])\n",
    "        if attribute_id in sources:\n",
    "            value = getpath(attribute,[\"value\"])\n",
    "            #print(\"value: \"+value)\n",
    "            if value is not None:\n",
    "                if \"semmeddb\" in value:\n",
    "                    semmed=True\n",
    "                \n",
    "    return semmed\n",
    "        "
   ]
  },
  {
   "cell_type": "code",
   "execution_count": 134,
   "id": "6467ffcc",
   "metadata": {},
   "outputs": [],
   "source": [
    "example = get_message_from_disk()\n",
    "kg = get_knowledge_graph(example)"
   ]
  },
  {
   "cell_type": "code",
   "execution_count": 135,
   "id": "9164ffa7",
   "metadata": {},
   "outputs": [],
   "source": [
    "edges = get_edges(example)\n",
    "nodes = get_nodes(example)\n",
    "results = get_results(example)"
   ]
  },
  {
   "cell_type": "code",
   "execution_count": 136,
   "id": "7e112762",
   "metadata": {},
   "outputs": [
    {
     "name": "stdout",
     "output_type": "stream",
     "text": [
      "946 of 1458\n"
     ]
    }
   ],
   "source": [
    "total_edges = len(edges.keys())\n",
    "semmed_count = 0\n",
    "for key in edges.keys():\n",
    "    \n",
    "    if(edge_contains_semmed(edges[key])):\n",
    "        semmed_count+=1\n",
    "        #print(key)\n",
    "print(str(semmed_count)+\" of \"+str(total_edges))"
   ]
  },
  {
   "cell_type": "code",
   "execution_count": null,
   "id": "8e45fc0f",
   "metadata": {},
   "outputs": [],
   "source": []
  },
  {
   "cell_type": "code",
   "execution_count": null,
   "id": "193bef46",
   "metadata": {},
   "outputs": [],
   "source": []
  }
 ],
 "metadata": {
  "kernelspec": {
   "display_name": "Python 3 (ipykernel)",
   "language": "python",
   "name": "python3"
  },
  "language_info": {
   "codemirror_mode": {
    "name": "ipython",
    "version": 3
   },
   "file_extension": ".py",
   "mimetype": "text/x-python",
   "name": "python",
   "nbconvert_exporter": "python",
   "pygments_lexer": "ipython3",
   "version": "3.9.13"
  }
 },
 "nbformat": 4,
 "nbformat_minor": 5
}
